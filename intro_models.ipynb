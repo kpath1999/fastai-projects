{
 "cells": [
  {
   "cell_type": "markdown",
   "id": "6babc3e7-1315-4462-8743-64a194d5b0a2",
   "metadata": {},
   "source": [
    "## Running my first notebook\n",
    "\n",
    "<p>I'll be using this notebook to train a model that can recognize dog and cat photos. To do this, a dataset comprising dog and cat photos will be downloaded, and that will be used to train a model.</p>"
   ]
  },
  {
   "cell_type": "code",
   "execution_count": 1,
   "id": "4d75bc9a-0a2a-451d-bae2-fb942ae84005",
   "metadata": {
    "execution": {
     "iopub.execute_input": "2024-05-05T01:38:51.019514Z",
     "iopub.status.busy": "2024-05-05T01:38:51.018945Z",
     "iopub.status.idle": "2024-05-05T01:38:59.822356Z",
     "shell.execute_reply": "2024-05-05T01:38:59.820966Z",
     "shell.execute_reply.started": "2024-05-05T01:38:51.019405Z"
    }
   },
   "outputs": [],
   "source": [
    "#hide\n",
    "! [ -e /content ] && pip install -Uqq fastbook\n",
    "import fastbook\n",
    "fastbook.setup_book()"
   ]
  },
  {
   "cell_type": "markdown",
   "id": "906ae93d-8f2e-45ad-9db6-be693428a53c",
   "metadata": {},
   "source": [
    "## Pet Classification\n",
    "\n",
    "<p>The first few lines below serve to:\n",
    "\n",
    "* Import all of the fastai.vision library. It gives us all the functions and classes needed to create a variety of computer vision models.\n",
    "* Download a standard dataset from the fast.ai datasets collection (if not previously downloaded) to the server, extract it (if not previously extracted), and return a `Path` object with the extracted location."
   ]
  },
  {
   "cell_type": "code",
   "execution_count": 2,
   "id": "946f2d9e-8567-48dc-b718-c1054e83a01c",
   "metadata": {
    "execution": {
     "iopub.execute_input": "2024-05-05T01:38:59.824972Z",
     "iopub.status.busy": "2024-05-05T01:38:59.824419Z",
     "iopub.status.idle": "2024-05-05T01:39:24.044948Z",
     "shell.execute_reply": "2024-05-05T01:39:24.043146Z",
     "shell.execute_reply.started": "2024-05-05T01:38:59.824921Z"
    }
   },
   "outputs": [
    {
     "data": {
      "text/html": [
       "\n",
       "<style>\n",
       "    /* Turns off some styling */\n",
       "    progress {\n",
       "        /* gets rid of default border in Firefox and Opera. */\n",
       "        border: none;\n",
       "        /* Needs to be in here for Safari polyfill so background images work as expected. */\n",
       "        background-size: auto;\n",
       "    }\n",
       "    progress:not([value]), progress:not([value])::-webkit-progress-bar {\n",
       "        background: repeating-linear-gradient(45deg, #7e7e7e, #7e7e7e 10px, #5c5c5c 10px, #5c5c5c 20px);\n",
       "    }\n",
       "    .progress-bar-interrupted, .progress-bar-interrupted::-webkit-progress-bar {\n",
       "        background: #F44336;\n",
       "    }\n",
       "</style>\n"
      ],
      "text/plain": [
       "<IPython.core.display.HTML object>"
      ]
     },
     "metadata": {},
     "output_type": "display_data"
    },
    {
     "data": {
      "text/html": [
       "\n",
       "    <div>\n",
       "      <progress value='811712512' class='' max='811706944' style='width:300px; height:20px; vertical-align: middle;'></progress>\n",
       "      100.00% [811712512/811706944 00:14&lt;00:00]\n",
       "    </div>\n",
       "    "
      ],
      "text/plain": [
       "<IPython.core.display.HTML object>"
      ]
     },
     "metadata": {},
     "output_type": "display_data"
    }
   ],
   "source": [
    "from fastbook import *\n",
    "from fastai.vision.all import *\n",
    "from fastai.vision.widgets import *\n",
    "path = untar_data(URLs.PETS)/'images'"
   ]
  },
  {
   "cell_type": "markdown",
   "id": "fe871263-8544-44f4-b12d-e0dfdaf3ae22",
   "metadata": {},
   "source": [
    "<p> The <i>is_cat</i> function labels cats based on the filename rule provided by the dataset's creators. In other words, the filenames start with an uppercase letter if the image is a cat, and a lowercase letter otherwise.\n",
    "\n",
    "* For fastai to know what kind of dataset we have and how it is structured, we use `ImageDataLoaders`. Secondly, we need to intruct fastai how to get the labels from the dataset. That is achieved using the <i>is_cat</i> function defined below.\n",
    "* And then a Transform function is applied, `item_tfms`, which resizes each item to a 224-pixel square.\n",
    "* The most important parameter is `valid_pct`, which specifies that 20% of the data would comprise the validation set.\n",
    "* The parameter `seed` sets the random seed to the same value every time we run the code. This means we get the same validation set every time we run it.</p>"
   ]
  },
  {
   "cell_type": "code",
   "execution_count": 3,
   "id": "e5a41811-dbd4-4fea-9b73-9364033430ff",
   "metadata": {
    "execution": {
     "iopub.execute_input": "2024-05-05T01:39:24.048323Z",
     "iopub.status.busy": "2024-05-05T01:39:24.047546Z",
     "iopub.status.idle": "2024-05-05T01:39:24.510210Z",
     "shell.execute_reply": "2024-05-05T01:39:24.508828Z",
     "shell.execute_reply.started": "2024-05-05T01:39:24.048267Z"
    }
   },
   "outputs": [],
   "source": [
    "def is_cat(x): return x[0].isupper()\n",
    "dls = ImageDataLoaders.from_name_func(\n",
    "    path, get_image_files(path), valid_pct=0.2, seed=42,\n",
    "    label_func=is_cat, item_tfms=Resize(224))"
   ]
  },
  {
   "cell_type": "markdown",
   "id": "151f787f-c5b0-45a0-ba3a-dd6384077da9",
   "metadata": {},
   "source": [
    "<p>Now our image recognizer <i>(dls)</i> tells fastai to create a convolutional neural network (CNN) and specifies what artchitecture to use, what data we want to train it on, and what metric to use.\n",
    "\n",
    "* <i>ResNets</i> are a standard piece of architecture used while implementing CNNs.\n",
    "* The `34` in `resnet34` refers to the number of layers in this variant of the architecture.\n",
    "* The metric, a function that measures the quality of the model's predictions using the validation set, was set to `error_rate`, which tells you what percentage of images in the validation set are being classified incorrectly.\n",
    "* Since we've started with a pretrained model, the `fine_tune` method was used. The \"1\" in the brackets refers to the number of epochs, i.e., a complete pass through the dataset.</p>"
   ]
  },
  {
   "cell_type": "code",
   "execution_count": 4,
   "id": "8840969a-a1a0-4a73-95b7-b99f3be11cc4",
   "metadata": {
    "execution": {
     "iopub.execute_input": "2024-05-05T01:39:24.513570Z",
     "iopub.status.busy": "2024-05-05T01:39:24.513124Z",
     "iopub.status.idle": "2024-05-05T02:00:09.617097Z",
     "shell.execute_reply": "2024-05-05T02:00:09.616053Z",
     "shell.execute_reply.started": "2024-05-05T01:39:24.513537Z"
    }
   },
   "outputs": [
    {
     "name": "stderr",
     "output_type": "stream",
     "text": [
      "Downloading: \"https://download.pytorch.org/models/resnet34-b627a593.pth\" to /root/.cache/torch/hub/checkpoints/resnet34-b627a593.pth\n"
     ]
    },
    {
     "data": {
      "application/vnd.jupyter.widget-view+json": {
       "model_id": "6015598e93cc41e8aecff69b49b6d7cb",
       "version_major": 2,
       "version_minor": 0
      },
      "text/plain": [
       "  0%|          | 0.00/83.3M [00:00<?, ?B/s]"
      ]
     },
     "metadata": {},
     "output_type": "display_data"
    },
    {
     "data": {
      "text/html": [
       "\n",
       "<style>\n",
       "    /* Turns off some styling */\n",
       "    progress {\n",
       "        /* gets rid of default border in Firefox and Opera. */\n",
       "        border: none;\n",
       "        /* Needs to be in here for Safari polyfill so background images work as expected. */\n",
       "        background-size: auto;\n",
       "    }\n",
       "    progress:not([value]), progress:not([value])::-webkit-progress-bar {\n",
       "        background: repeating-linear-gradient(45deg, #7e7e7e, #7e7e7e 10px, #5c5c5c 10px, #5c5c5c 20px);\n",
       "    }\n",
       "    .progress-bar-interrupted, .progress-bar-interrupted::-webkit-progress-bar {\n",
       "        background: #F44336;\n",
       "    }\n",
       "</style>\n"
      ],
      "text/plain": [
       "<IPython.core.display.HTML object>"
      ]
     },
     "metadata": {},
     "output_type": "display_data"
    },
    {
     "data": {
      "text/html": [
       "<table border=\"1\" class=\"dataframe\">\n",
       "  <thead>\n",
       "    <tr style=\"text-align: left;\">\n",
       "      <th>epoch</th>\n",
       "      <th>train_loss</th>\n",
       "      <th>valid_loss</th>\n",
       "      <th>error_rate</th>\n",
       "      <th>time</th>\n",
       "    </tr>\n",
       "  </thead>\n",
       "  <tbody>\n",
       "    <tr>\n",
       "      <td>0</td>\n",
       "      <td>0.174559</td>\n",
       "      <td>0.016330</td>\n",
       "      <td>0.004736</td>\n",
       "      <td>08:12</td>\n",
       "    </tr>\n",
       "  </tbody>\n",
       "</table>"
      ],
      "text/plain": [
       "<IPython.core.display.HTML object>"
      ]
     },
     "metadata": {},
     "output_type": "display_data"
    },
    {
     "data": {
      "text/html": [
       "\n",
       "<style>\n",
       "    /* Turns off some styling */\n",
       "    progress {\n",
       "        /* gets rid of default border in Firefox and Opera. */\n",
       "        border: none;\n",
       "        /* Needs to be in here for Safari polyfill so background images work as expected. */\n",
       "        background-size: auto;\n",
       "    }\n",
       "    progress:not([value]), progress:not([value])::-webkit-progress-bar {\n",
       "        background: repeating-linear-gradient(45deg, #7e7e7e, #7e7e7e 10px, #5c5c5c 10px, #5c5c5c 20px);\n",
       "    }\n",
       "    .progress-bar-interrupted, .progress-bar-interrupted::-webkit-progress-bar {\n",
       "        background: #F44336;\n",
       "    }\n",
       "</style>\n"
      ],
      "text/plain": [
       "<IPython.core.display.HTML object>"
      ]
     },
     "metadata": {},
     "output_type": "display_data"
    },
    {
     "data": {
      "text/html": [
       "<table border=\"1\" class=\"dataframe\">\n",
       "  <thead>\n",
       "    <tr style=\"text-align: left;\">\n",
       "      <th>epoch</th>\n",
       "      <th>train_loss</th>\n",
       "      <th>valid_loss</th>\n",
       "      <th>error_rate</th>\n",
       "      <th>time</th>\n",
       "    </tr>\n",
       "  </thead>\n",
       "  <tbody>\n",
       "    <tr>\n",
       "      <td>0</td>\n",
       "      <td>0.068426</td>\n",
       "      <td>0.005177</td>\n",
       "      <td>0.001353</td>\n",
       "      <td>12:20</td>\n",
       "    </tr>\n",
       "  </tbody>\n",
       "</table>"
      ],
      "text/plain": [
       "<IPython.core.display.HTML object>"
      ]
     },
     "metadata": {},
     "output_type": "display_data"
    }
   ],
   "source": [
    "import warnings\n",
    "warnings.filterwarnings('ignore')\n",
    "learn = cnn_learner(dls, resnet34, metrics=error_rate)\n",
    "learn.fine_tune(1)"
   ]
  },
  {
   "cell_type": "code",
   "execution_count": 5,
   "id": "efcb967d-c25e-4456-a3b8-c1296c9daa3a",
   "metadata": {
    "execution": {
     "iopub.execute_input": "2024-05-05T02:00:09.618995Z",
     "iopub.status.busy": "2024-05-05T02:00:09.618629Z",
     "iopub.status.idle": "2024-05-05T02:00:09.634583Z",
     "shell.execute_reply": "2024-05-05T02:00:09.633172Z",
     "shell.execute_reply.started": "2024-05-05T02:00:09.618959Z"
    }
   },
   "outputs": [
    {
     "data": {
      "application/vnd.jupyter.widget-view+json": {
       "model_id": "5f991740160c41e7909850319520f8cb",
       "version_major": 2,
       "version_minor": 0
      },
      "text/plain": [
       "FileUpload(value={}, description='Upload')"
      ]
     },
     "metadata": {},
     "output_type": "display_data"
    }
   ],
   "source": [
    "#uploader = widgets.FileUpload()\n",
    "#uploader"
   ]
  },
  {
   "cell_type": "code",
   "execution_count": 6,
   "id": "43c3fd6a-b4c6-4bfa-8459-9af256ae9c82",
   "metadata": {
    "execution": {
     "iopub.execute_input": "2024-05-05T02:00:09.636384Z",
     "iopub.status.busy": "2024-05-05T02:00:09.636019Z",
     "iopub.status.idle": "2024-05-05T02:00:09.641857Z",
     "shell.execute_reply": "2024-05-05T02:00:09.640790Z",
     "shell.execute_reply.started": "2024-05-05T02:00:09.636356Z"
    }
   },
   "outputs": [],
   "source": [
    "# Assuming we can't click the upload button\n",
    "uploader = SimpleNamespace(data = ['../images/chapter1_cat_example.jpg'])"
   ]
  },
  {
   "cell_type": "code",
   "execution_count": 7,
   "id": "e0b05990-c7ef-4da4-b9d5-1cf068272fca",
   "metadata": {
    "execution": {
     "iopub.execute_input": "2024-05-05T02:00:09.643488Z",
     "iopub.status.busy": "2024-05-05T02:00:09.643158Z",
     "iopub.status.idle": "2024-05-05T02:00:10.585719Z",
     "shell.execute_reply": "2024-05-05T02:00:10.584627Z",
     "shell.execute_reply.started": "2024-05-05T02:00:09.643465Z"
    }
   },
   "outputs": [
    {
     "data": {
      "text/html": [
       "\n",
       "<style>\n",
       "    /* Turns off some styling */\n",
       "    progress {\n",
       "        /* gets rid of default border in Firefox and Opera. */\n",
       "        border: none;\n",
       "        /* Needs to be in here for Safari polyfill so background images work as expected. */\n",
       "        background-size: auto;\n",
       "    }\n",
       "    progress:not([value]), progress:not([value])::-webkit-progress-bar {\n",
       "        background: repeating-linear-gradient(45deg, #7e7e7e, #7e7e7e 10px, #5c5c5c 10px, #5c5c5c 20px);\n",
       "    }\n",
       "    .progress-bar-interrupted, .progress-bar-interrupted::-webkit-progress-bar {\n",
       "        background: #F44336;\n",
       "    }\n",
       "</style>\n"
      ],
      "text/plain": [
       "<IPython.core.display.HTML object>"
      ]
     },
     "metadata": {},
     "output_type": "display_data"
    },
    {
     "data": {
      "text/html": [],
      "text/plain": [
       "<IPython.core.display.HTML object>"
      ]
     },
     "metadata": {},
     "output_type": "display_data"
    },
    {
     "name": "stdout",
     "output_type": "stream",
     "text": [
      "Is this a cat?: True.\n",
      "Probability it's a cat: 1.000000\n"
     ]
    }
   ],
   "source": [
    "img = PILImage.create(uploader.data[0])\n",
    "is_cat, _, probs = learn.predict(img)\n",
    "print(f\"Is this a cat?: {is_cat}.\")\n",
    "print(f\"Probability it's a cat: {probs[1].item():.6f}\")"
   ]
  },
  {
   "cell_type": "markdown",
   "id": "85948932-716f-4b13-b5d2-30269fc4d027",
   "metadata": {},
   "source": [
    "## Running a Segmentation Model\n",
    "\n",
    "<p>Creating a model that can recognize the content of every individual pixel in an image is called segmentation.</p>"
   ]
  },
  {
   "cell_type": "code",
   "execution_count": 8,
   "id": "174b8ead-bbcf-40c8-a7a5-633f082d83bd",
   "metadata": {
    "execution": {
     "iopub.execute_input": "2024-05-05T02:00:10.587487Z",
     "iopub.status.busy": "2024-05-05T02:00:10.587209Z",
     "iopub.status.idle": "2024-05-05T02:00:11.943454Z",
     "shell.execute_reply": "2024-05-05T02:00:11.941800Z",
     "shell.execute_reply.started": "2024-05-05T02:00:10.587465Z"
    }
   },
   "outputs": [
    {
     "data": {
      "text/html": [
       "\n",
       "<style>\n",
       "    /* Turns off some styling */\n",
       "    progress {\n",
       "        /* gets rid of default border in Firefox and Opera. */\n",
       "        border: none;\n",
       "        /* Needs to be in here for Safari polyfill so background images work as expected. */\n",
       "        background-size: auto;\n",
       "    }\n",
       "    progress:not([value]), progress:not([value])::-webkit-progress-bar {\n",
       "        background: repeating-linear-gradient(45deg, #7e7e7e, #7e7e7e 10px, #5c5c5c 10px, #5c5c5c 20px);\n",
       "    }\n",
       "    .progress-bar-interrupted, .progress-bar-interrupted::-webkit-progress-bar {\n",
       "        background: #F44336;\n",
       "    }\n",
       "</style>\n"
      ],
      "text/plain": [
       "<IPython.core.display.HTML object>"
      ]
     },
     "metadata": {},
     "output_type": "display_data"
    },
    {
     "data": {
      "text/html": [
       "\n",
       "    <div>\n",
       "      <progress value='2318336' class='' max='2314212' style='width:300px; height:20px; vertical-align: middle;'></progress>\n",
       "      100.18% [2318336/2314212 00:01&lt;00:00]\n",
       "    </div>\n",
       "    "
      ],
      "text/plain": [
       "<IPython.core.display.HTML object>"
      ]
     },
     "metadata": {},
     "output_type": "display_data"
    }
   ],
   "source": [
    "path = untar_data(URLs.CAMVID_TINY)\n",
    "dls = SegmentationDataLoaders.from_label_func(\n",
    "    path, bs=8, fnames = get_image_files(path/\"images\"),\n",
    "    label_func = lambda o: path/'labels'/f'{o.stem}_P{o.suffix}',\n",
    "    codes = np.loadtxt(path/'codes.txt', dtype=str))"
   ]
  },
  {
   "cell_type": "code",
   "execution_count": 9,
   "id": "c0146e2f-523b-411d-a723-3212fee32761",
   "metadata": {
    "execution": {
     "iopub.execute_input": "2024-05-05T02:00:11.945877Z",
     "iopub.status.busy": "2024-05-05T02:00:11.945473Z",
     "iopub.status.idle": "2024-05-05T02:07:55.903554Z",
     "shell.execute_reply": "2024-05-05T02:07:55.902045Z",
     "shell.execute_reply.started": "2024-05-05T02:00:11.945861Z"
    }
   },
   "outputs": [
    {
     "data": {
      "text/html": [
       "\n",
       "<style>\n",
       "    /* Turns off some styling */\n",
       "    progress {\n",
       "        /* gets rid of default border in Firefox and Opera. */\n",
       "        border: none;\n",
       "        /* Needs to be in here for Safari polyfill so background images work as expected. */\n",
       "        background-size: auto;\n",
       "    }\n",
       "    progress:not([value]), progress:not([value])::-webkit-progress-bar {\n",
       "        background: repeating-linear-gradient(45deg, #7e7e7e, #7e7e7e 10px, #5c5c5c 10px, #5c5c5c 20px);\n",
       "    }\n",
       "    .progress-bar-interrupted, .progress-bar-interrupted::-webkit-progress-bar {\n",
       "        background: #F44336;\n",
       "    }\n",
       "</style>\n"
      ],
      "text/plain": [
       "<IPython.core.display.HTML object>"
      ]
     },
     "metadata": {},
     "output_type": "display_data"
    },
    {
     "data": {
      "text/html": [
       "<table border=\"1\" class=\"dataframe\">\n",
       "  <thead>\n",
       "    <tr style=\"text-align: left;\">\n",
       "      <th>epoch</th>\n",
       "      <th>train_loss</th>\n",
       "      <th>valid_loss</th>\n",
       "      <th>time</th>\n",
       "    </tr>\n",
       "  </thead>\n",
       "  <tbody>\n",
       "    <tr>\n",
       "      <td>0</td>\n",
       "      <td>3.419218</td>\n",
       "      <td>2.876316</td>\n",
       "      <td>00:48</td>\n",
       "    </tr>\n",
       "  </tbody>\n",
       "</table>"
      ],
      "text/plain": [
       "<IPython.core.display.HTML object>"
      ]
     },
     "metadata": {},
     "output_type": "display_data"
    },
    {
     "data": {
      "text/html": [
       "\n",
       "<style>\n",
       "    /* Turns off some styling */\n",
       "    progress {\n",
       "        /* gets rid of default border in Firefox and Opera. */\n",
       "        border: none;\n",
       "        /* Needs to be in here for Safari polyfill so background images work as expected. */\n",
       "        background-size: auto;\n",
       "    }\n",
       "    progress:not([value]), progress:not([value])::-webkit-progress-bar {\n",
       "        background: repeating-linear-gradient(45deg, #7e7e7e, #7e7e7e 10px, #5c5c5c 10px, #5c5c5c 20px);\n",
       "    }\n",
       "    .progress-bar-interrupted, .progress-bar-interrupted::-webkit-progress-bar {\n",
       "        background: #F44336;\n",
       "    }\n",
       "</style>\n"
      ],
      "text/plain": [
       "<IPython.core.display.HTML object>"
      ]
     },
     "metadata": {},
     "output_type": "display_data"
    },
    {
     "data": {
      "text/html": [
       "<table border=\"1\" class=\"dataframe\">\n",
       "  <thead>\n",
       "    <tr style=\"text-align: left;\">\n",
       "      <th>epoch</th>\n",
       "      <th>train_loss</th>\n",
       "      <th>valid_loss</th>\n",
       "      <th>time</th>\n",
       "    </tr>\n",
       "  </thead>\n",
       "  <tbody>\n",
       "    <tr>\n",
       "      <td>0</td>\n",
       "      <td>2.282450</td>\n",
       "      <td>2.054041</td>\n",
       "      <td>00:49</td>\n",
       "    </tr>\n",
       "    <tr>\n",
       "      <td>1</td>\n",
       "      <td>1.888907</td>\n",
       "      <td>1.419368</td>\n",
       "      <td>00:53</td>\n",
       "    </tr>\n",
       "    <tr>\n",
       "      <td>2</td>\n",
       "      <td>1.625412</td>\n",
       "      <td>1.213707</td>\n",
       "      <td>00:45</td>\n",
       "    </tr>\n",
       "    <tr>\n",
       "      <td>3</td>\n",
       "      <td>1.434991</td>\n",
       "      <td>1.073627</td>\n",
       "      <td>00:50</td>\n",
       "    </tr>\n",
       "    <tr>\n",
       "      <td>4</td>\n",
       "      <td>1.269116</td>\n",
       "      <td>0.973459</td>\n",
       "      <td>01:01</td>\n",
       "    </tr>\n",
       "    <tr>\n",
       "      <td>5</td>\n",
       "      <td>1.131243</td>\n",
       "      <td>0.908246</td>\n",
       "      <td>01:10</td>\n",
       "    </tr>\n",
       "    <tr>\n",
       "      <td>6</td>\n",
       "      <td>1.018027</td>\n",
       "      <td>0.849210</td>\n",
       "      <td>00:37</td>\n",
       "    </tr>\n",
       "    <tr>\n",
       "      <td>7</td>\n",
       "      <td>0.931068</td>\n",
       "      <td>0.835633</td>\n",
       "      <td>00:46</td>\n",
       "    </tr>\n",
       "  </tbody>\n",
       "</table>"
      ],
      "text/plain": [
       "<IPython.core.display.HTML object>"
      ]
     },
     "metadata": {},
     "output_type": "display_data"
    }
   ],
   "source": [
    "import warnings\n",
    "warnings.filterwarnings('ignore')\n",
    "learn = unet_learner(dls, resnet34)\n",
    "learn.fine_tune(8)"
   ]
  },
  {
   "cell_type": "code",
   "execution_count": 10,
   "id": "7d125ee1-e7ce-4a6b-9584-2f6f3e769a12",
   "metadata": {
    "execution": {
     "iopub.execute_input": "2024-05-05T02:07:55.908406Z",
     "iopub.status.busy": "2024-05-05T02:07:55.907986Z",
     "iopub.status.idle": "2024-05-05T02:07:57.353062Z",
     "shell.execute_reply": "2024-05-05T02:07:57.351950Z",
     "shell.execute_reply.started": "2024-05-05T02:07:55.908367Z"
    }
   },
   "outputs": [
    {
     "data": {
      "text/html": [
       "\n",
       "<style>\n",
       "    /* Turns off some styling */\n",
       "    progress {\n",
       "        /* gets rid of default border in Firefox and Opera. */\n",
       "        border: none;\n",
       "        /* Needs to be in here for Safari polyfill so background images work as expected. */\n",
       "        background-size: auto;\n",
       "    }\n",
       "    progress:not([value]), progress:not([value])::-webkit-progress-bar {\n",
       "        background: repeating-linear-gradient(45deg, #7e7e7e, #7e7e7e 10px, #5c5c5c 10px, #5c5c5c 20px);\n",
       "    }\n",
       "    .progress-bar-interrupted, .progress-bar-interrupted::-webkit-progress-bar {\n",
       "        background: #F44336;\n",
       "    }\n",
       "</style>\n"
      ],
      "text/plain": [
       "<IPython.core.display.HTML object>"
      ]
     },
     "metadata": {},
     "output_type": "display_data"
    },
    {
     "data": {
      "text/html": [],
      "text/plain": [
       "<IPython.core.display.HTML object>"
      ]
     },
     "metadata": {},
     "output_type": "display_data"
    },
    {
     "data": {
      "image/png": "[encoded data removed]",
      "text/plain": [
       "<Figure size 504x576 with 12 Axes>"
      ]
     },
     "metadata": {
      "needs_background": "light"
     },
     "output_type": "display_data"
    }
   ],
   "source": [
    "learn.show_results(max_n=6, figsize=(7,8))"
   ]
  },
  {
   "cell_type": "markdown",
   "id": "ce71c348-585d-4fb4-a3da-d6244887dc37",
   "metadata": {},
   "source": [
    "## Sentiment Analysis using Natural Language Processing (NLP)\n",
    "\n",
    "<p>Training a model that can classify the sentiment of a movie review.</p>"
   ]
  },
  {
   "cell_type": "code",
   "execution_count": null,
   "id": "7383ad63-7fb5-4d68-9f29-9e757cf2b5ec",
   "metadata": {
    "execution": {
     "iopub.execute_input": "2024-05-05T02:07:57.361327Z",
     "iopub.status.busy": "2024-05-05T02:07:57.360967Z"
    }
   },
   "outputs": [
    {
     "data": {
      "text/html": [
       "\n",
       "<style>\n",
       "    /* Turns off some styling */\n",
       "    progress {\n",
       "        /* gets rid of default border in Firefox and Opera. */\n",
       "        border: none;\n",
       "        /* Needs to be in here for Safari polyfill so background images work as expected. */\n",
       "        background-size: auto;\n",
       "    }\n",
       "    progress:not([value]), progress:not([value])::-webkit-progress-bar {\n",
       "        background: repeating-linear-gradient(45deg, #7e7e7e, #7e7e7e 10px, #5c5c5c 10px, #5c5c5c 20px);\n",
       "    }\n",
       "    .progress-bar-interrupted, .progress-bar-interrupted::-webkit-progress-bar {\n",
       "        background: #F44336;\n",
       "    }\n",
       "</style>\n"
      ],
      "text/plain": [
       "<IPython.core.display.HTML object>"
      ]
     },
     "metadata": {},
     "output_type": "display_data"
    },
    {
     "data": {
      "text/html": [
       "\n",
       "    <div>\n",
       "      <progress value='144441344' class='' max='144440600' style='width:300px; height:20px; vertical-align: middle;'></progress>\n",
       "      100.00% [144441344/144440600 00:02&lt;00:00]\n",
       "    </div>\n",
       "    "
      ],
      "text/plain": [
       "<IPython.core.display.HTML object>"
      ]
     },
     "metadata": {},
     "output_type": "display_data"
    },
    {
     "name": "stderr",
     "output_type": "stream",
     "text": [
      "2024-05-05 02:08:34.306650: W tensorflow/stream_executor/platform/default/dso_loader.cc:64] Could not load dynamic library 'libcuda.so.1'; dlerror: libcuda.so.1: cannot open shared object file: No such file or directory; LD_LIBRARY_PATH: /usr/local/nvidia/lib:/usr/local/nvidia/lib64\n",
      "2024-05-05 02:08:34.306731: W tensorflow/stream_executor/cuda/cuda_driver.cc:269] failed call to cuInit: UNKNOWN ERROR (303)\n"
     ]
    },
    {
     "data": {
      "text/html": [
       "\n",
       "<style>\n",
       "    /* Turns off some styling */\n",
       "    progress {\n",
       "        /* gets rid of default border in Firefox and Opera. */\n",
       "        border: none;\n",
       "        /* Needs to be in here for Safari polyfill so background images work as expected. */\n",
       "        background-size: auto;\n",
       "    }\n",
       "    progress:not([value]), progress:not([value])::-webkit-progress-bar {\n",
       "        background: repeating-linear-gradient(45deg, #7e7e7e, #7e7e7e 10px, #5c5c5c 10px, #5c5c5c 20px);\n",
       "    }\n",
       "    .progress-bar-interrupted, .progress-bar-interrupted::-webkit-progress-bar {\n",
       "        background: #F44336;\n",
       "    }\n",
       "</style>\n"
      ],
      "text/plain": [
       "<IPython.core.display.HTML object>"
      ]
     },
     "metadata": {},
     "output_type": "display_data"
    },
    {
     "data": {
      "text/html": [
       "\n",
       "    <div>\n",
       "      <progress value='8837' class='' max='100002' style='width:300px; height:20px; vertical-align: middle;'></progress>\n",
       "      8.84% [8837/100002 00:38&lt;06:40]\n",
       "    </div>\n",
       "    "
      ],
      "text/plain": [
       "<IPython.core.display.HTML object>"
      ]
     },
     "metadata": {},
     "output_type": "display_data"
    }
   ],
   "source": [
    "import warnings\n",
    "warnings.filterwarnings('ignore')\n",
    "from fastai.text.all import *\n",
    "dls = TextDataLoaders.from_folder(untar_data(URLs.IMDB), valid='test')"
   ]
  },
  {
   "cell_type": "code",
   "execution_count": null,
   "id": "266d8780-d3ba-4b26-9294-1e074318d82f",
   "metadata": {},
   "outputs": [],
   "source": [
    "learn = text_classifier_learner(dls, AWS_LSTM, drop_mult=0.5, metrics=accuracy)\n",
    "learn.fine_tune(4, 1e-2)"
   ]
  },
  {
   "cell_type": "code",
   "execution_count": null,
   "id": "b337478a-a5d8-47a4-8619-7cdabc55132b",
   "metadata": {},
   "outputs": [],
   "source": [
    "learn.predict(\"I really liked that movie!\")"
   ]
  },
  {
   "cell_type": "markdown",
   "id": "de9c6a27-c4c4-463b-bec9-b41a1ee0cd0b",
   "metadata": {},
   "source": [
    "## Predicting whether a person is a high-income earner\n",
    "\n",
    "<p>We would need to tell fastai which columns are categorical (containing values that are one of a discrete set of choices, such as occupation) versus continuous (containing a number that represents a quantity, such as age).</p>"
   ]
  },
  {
   "cell_type": "code",
   "execution_count": null,
   "id": "4e56e753-e016-442d-a01a-f41b0c9f55b2",
   "metadata": {},
   "outputs": [],
   "source": [
    "from fastai.tabular.all import *\n",
    "path = untar_data(URLs.ADULT_SAMPLE)\n",
    "\n",
    "dls = TabularDataLoaders.from_csv(path/'adult.csv', path=path, y_names=\"salary\",\n",
    "    cat_names = ['workclass', 'education', 'marital-status', 'occupation',\n",
    "                 'relationship', 'race'],\n",
    "    cont_names = ['age', 'fnlwgt', 'education-num'],\n",
    "    procs = [Categorify, FillMissing, Normalize])\n",
    "\n",
    "learn = tabular_learner(dls, metrics=accuracy)"
   ]
  },
  {
   "cell_type": "code",
   "execution_count": null,
   "id": "72f5a9c8-bade-4941-8f2b-2fd4127a2026",
   "metadata": {},
   "outputs": [],
   "source": [
    "learn.fit_one_cycle(3)"
   ]
  },
  {
   "cell_type": "markdown",
   "id": "fae2353e-7fb1-48b8-b470-250a498b4012",
   "metadata": {},
   "source": [
    "## Predicting movies a user might like\n",
    "\n",
    "<p>Training a model that will predict movies people might like based on their previous viewing habots, using the MovieLens dataset. The model is predicting movie ratings on a scale of 0.5 to 5.0 to within around 0.6 average error.</p>"
   ]
  },
  {
   "cell_type": "code",
   "execution_count": null,
   "id": "3e04460e-7303-4289-84da-0ed4ba3b4247",
   "metadata": {},
   "outputs": [],
   "source": [
    "from fastai.collab import *\n",
    "path = untar_data(URLs.ML_SAMPLE)\n",
    "dls = CollabDataLoaders.from_csv(path/'ratings.csv')\n",
    "learn = collab_learner(dls, y_range=(0.5,5.5))\n",
    "learn.fine_tune(10)"
   ]
  },
  {
   "cell_type": "code",
   "execution_count": null,
   "id": "96b6ba08-aca8-4f5b-b8be-22803acebeea",
   "metadata": {},
   "outputs": [],
   "source": [
    "learn.show_results()"
   ]
  }
 ],
 "metadata": {
  "kernelspec": {
   "display_name": "Python 3 (ipykernel)",
   "language": "python",
   "name": "python3"
  },
  "language_info": {
   "codemirror_mode": {
    "name": "ipython",
    "version": 3
   },
   "file_extension": ".py",
   "mimetype": "text/x-python",
   "name": "python",
   "nbconvert_exporter": "python",
   "pygments_lexer": "ipython3",
   "version": "3.9.13"
  }
 },
 "nbformat": 4,
 "nbformat_minor": 5
}
